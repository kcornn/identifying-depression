{
 "cells": [
  {
   "cell_type": "code",
   "execution_count": 19,
   "metadata": {},
   "outputs": [],
   "source": [
    "import pickle\n",
    "import pandas as pd\n",
    "import re\n",
    "import string"
   ]
  },
  {
   "cell_type": "code",
   "execution_count": 20,
   "metadata": {},
   "outputs": [
    {
     "name": "stdout",
     "output_type": "stream",
     "text": [
      "test Total number of comments:  117330\n"
     ]
    }
   ],
   "source": [
    "depressed_pickle = open(\"depressed.pickle\",\"rb\")\n",
    "depressed_dict = pickle.load(depressed_pickle)\n",
    "depressed_df = pd.DataFrame(depressed_dict)\n",
    "depressed_df.drop_duplicates(subset=['id'], inplace=True)\n",
    "print(\"test Total number of comments: \", sum(depressed_df['num_comments']))"
   ]
  },
  {
   "cell_type": "code",
   "execution_count": 21,
   "metadata": {},
   "outputs": [
    {
     "name": "stdout",
     "output_type": "stream",
     "text": [
      "test Total number of comments:  180236\n"
     ]
    }
   ],
   "source": [
    "non_depressed_pickle = open(\"non_depressed.pickle\",\"rb\")\n",
    "non_depressed_dict = pickle.load(non_depressed_pickle)\n",
    "non_depressed_df = pd.DataFrame(non_depressed_dict)\n",
    "non_depressed_df.drop_duplicates(subset=['id'], inplace=True)\n",
    "print(\"test Total number of comments: \", sum(non_depressed_df['num_comments']))"
   ]
  },
  {
   "cell_type": "code",
   "execution_count": 22,
   "metadata": {},
   "outputs": [],
   "source": [
    "depressed_comments_arr = depressed_df['comments'].tolist()\n",
    "non_depressed_comments_arr = non_depressed_df['comments'].tolist()"
   ]
  },
  {
   "cell_type": "code",
   "execution_count": 23,
   "metadata": {},
   "outputs": [],
   "source": [
    "depressed_comments = [comment for post in depressed_df['comments'] for comment in post]\n",
    "non_depressed_comments = [comment for post in non_depressed_df['comments'] for comment in post]"
   ]
  },
  {
   "cell_type": "code",
   "execution_count": 24,
   "metadata": {},
   "outputs": [
    {
     "name": "stdout",
     "output_type": "stream",
     "text": [
      "112981\n",
      "126615\n"
     ]
    }
   ],
   "source": [
    "print(len(depressed_comments))\n",
    "print(len(non_depressed_comments))"
   ]
  },
  {
   "cell_type": "code",
   "execution_count": 25,
   "metadata": {},
   "outputs": [],
   "source": [
    "def clean_one_comment(comment):\n",
    "    comment = comment.lower()\n",
    "    if '[deleted]' in comment or '[removed]' in comment:\n",
    "        comment = ''\n",
    "    else:\n",
    "        # remove /r/, /u/, numbers\n",
    "        comment = re.sub(r\"(\\/r\\/)|(\\/u\\/)|(\\d+)\",\"\",comment)\n",
    "        # remove punctuation\n",
    "        comment = comment.translate(str.maketrans('','', string.punctuation))\n",
    "        # replacing ' \n",
    "        comment = comment.replace('’','')\n",
    "        comment = comment.replace('\\n',\" \")\n",
    "        # remove trailing whitespace\n",
    "        comment = comment.strip()\n",
    "    return comment\n"
   ]
  },
  {
   "cell_type": "code",
   "execution_count": 26,
   "metadata": {},
   "outputs": [],
   "source": [
    "def clean_comments(comments):\n",
    "    removed_comments = ['[deleted]', '[removed]']\n",
    "    filtered_comments = [comment for comment in comments if comment not in removed_comments]\n",
    "    comments_clean = list()\n",
    "    for comment in filtered_comments:\n",
    "        comment_new = clean_one_comment(comment)\n",
    "        comments_clean.append(comment_new)\n",
    "    return comments_clean"
   ]
  },
  {
   "cell_type": "code",
   "execution_count": 27,
   "metadata": {},
   "outputs": [
    {
     "name": "stdout",
     "output_type": "stream",
     "text": [
      "orig length:  112981\n",
      "cleaned length:  108058\n"
     ]
    }
   ],
   "source": [
    "#test_comments = depressed_comments[:10]\n",
    "#print(test_comments)\n",
    "print('orig length: ', len(depressed_comments))\n",
    "depressed_comments_cleaned = clean_comments(depressed_comments)\n",
    "print('cleaned length: ', len(depressed_comments_cleaned))\n",
    "#print(depressed_comments_cleaned)"
   ]
  },
  {
   "cell_type": "code",
   "execution_count": 28,
   "metadata": {},
   "outputs": [
    {
     "name": "stdout",
     "output_type": "stream",
     "text": [
      "orig length:  126615\n",
      "cleaned length:  126288\n"
     ]
    }
   ],
   "source": [
    "print('orig length: ', len(non_depressed_comments))\n",
    "non_depressed_comments_cleaned = clean_comments(non_depressed_comments)\n",
    "print('cleaned length: ', len(non_depressed_comments_cleaned))\n",
    "#print(depressed_comments_cleaned)"
   ]
  },
  {
   "cell_type": "code",
   "execution_count": 29,
   "metadata": {},
   "outputs": [
    {
     "data": {
      "text/plain": [
       "['reddittesttt  test', 'pusshen', 'stest']"
      ]
     },
     "execution_count": 29,
     "metadata": {},
     "output_type": "execute_result"
    }
   ],
   "source": [
    "test_2 = ['/u/reddit/r/test31431t2t . test','pusshen','/s/test','[deleted]']\n",
    "#test_2 = [comment for comment in test_2 if comment not in removed_comments]\n",
    "clean_comments(test_2)"
   ]
  },
  {
   "cell_type": "code",
   "execution_count": null,
   "metadata": {},
   "outputs": [],
   "source": []
  }
 ],
 "metadata": {
  "kernelspec": {
   "display_name": "Python 3",
   "language": "python",
   "name": "python3"
  },
  "language_info": {
   "codemirror_mode": {
    "name": "ipython",
    "version": 3
   },
   "file_extension": ".py",
   "mimetype": "text/x-python",
   "name": "python",
   "nbconvert_exporter": "python",
   "pygments_lexer": "ipython3",
   "version": "3.7.1"
  }
 },
 "nbformat": 4,
 "nbformat_minor": 2
}
